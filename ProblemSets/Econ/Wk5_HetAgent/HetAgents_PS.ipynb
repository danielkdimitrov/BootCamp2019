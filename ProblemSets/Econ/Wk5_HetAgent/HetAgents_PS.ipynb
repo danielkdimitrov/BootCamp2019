{
 "cells": [
  {
   "cell_type": "markdown",
   "metadata": {},
   "source": [
    "# Heterogeneous Agents, Aiyagari (1994) economy\n",
    "\n",
    "## Daniel Dimitrov"
   ]
  },
  {
   "cell_type": "code",
   "execution_count": 1,
   "metadata": {},
   "outputs": [],
   "source": [
    "from scipy import optimize\n",
    "import numpy as np\n",
    "\n",
    "import numpy as np\n",
    "import random #use to set seed\n",
    "import matplotlib.pyplot as plt"
   ]
  },
  {
   "cell_type": "code",
   "execution_count": 2,
   "metadata": {},
   "outputs": [],
   "source": [
    "def kstar_fn(kstar, *params):\n",
    "    # steady state equilibrium value of agg. capital \n",
    "    beta, delta, alpha, u = params\n",
    "    f = (1 - beta*(1 - delta)*(alpha*np.sign(kstar)*np.abs(kstar)**(alpha - 1))*(1 - u)**(1 - alpha) + (1 - alpha)*np.sign(kstar)*np.abs(kstar)**(alpha)*(1 - u)**(-alpha))/(beta*(1 - delta)**(2) - beta*(1 - delta) - (1 - delta) + 1) - kstar\n",
    "    return f\n",
    "\n",
    "def kbar_rbc(params):\n",
    "    # use the representative agent model as an initial guess on kbar\n",
    "    beta, delta, alpha, u = params\n",
    "    f = (alpha*beta/(1 - beta*(1- delta)))**(1/(1 - alpha))\n",
    "    return f"
   ]
  },
  {
   "cell_type": "code",
   "execution_count": 3,
   "metadata": {},
   "outputs": [
    {
     "name": "stdout",
     "output_type": "stream",
     "text": [
      "[0.10389588]\n"
     ]
    }
   ],
   "source": [
    "beta = 0.96\n",
    "delta = 0.06\n",
    "alpha = 0.36\n",
    "u = 0.1\n",
    "params = beta, delta, alpha, u\n",
    "root = optimize.root(kstar_fn, 0.1, params)\n",
    "kstar = root.x \n",
    "print(kstar)"
   ]
  },
  {
   "cell_type": "code",
   "execution_count": null,
   "metadata": {},
   "outputs": [],
   "source": []
  },
  {
   "cell_type": "code",
   "execution_count": 26,
   "metadata": {},
   "outputs": [],
   "source": [
    "#Value function iteration\n",
    "def hetagents(kbar, params, N = 200):    \n",
    "    #Set seed\n",
    "    random.seed(0)\n",
    "    #Unpack parameters\n",
    "    beta, delta, alpha, u = params\n",
    "    #set threshold\n",
    "    threshold, eps = 1e-10, 10000\n",
    "    #Set boundaries for k and set up grid\n",
    "    k_low = 0.001\n",
    "    k_high = 20\n",
    "    kgrid = np.linspace(k_low, k_high, N)\n",
    "    #Set up value function matrices\n",
    "    V_old,V_new = np.zeros((2,N)), np.zeros((2,N))\n",
    "    c = np.zeros_like(V_old)\n",
    "    k_policy = np.zeros_like(V_old)\n",
    "    #Set unemployment u \n",
    "    u = 0.1\n",
    "    #Set transition matrix\n",
    "    transition = np.array([[0.9, 0.1], [0.9, 0.1]])\n",
    "    count, max_iter = 0, 500\n",
    "    \n",
    "    while (eps > threshold and count < max_iter):\n",
    "        for i,k in enumerate(kgrid):\n",
    "            #Compute r(kbar) and w(kbar)\n",
    "            r = alpha*kbar**(alpha - 1)*(1 - u)**(1 - alpha)\n",
    "            w = (1 - alpha)*kbar**(alpha)*(1 - u)**(-alpha)\n",
    "            #Construct consumption for shocks\n",
    "            c[0, :] = r*k + w*1 + (1 - delta)*k - kgrid # epsilon = 1\n",
    "            c[1, :] = r*k + w*0 + (1 - delta)*k - kgrid # epsilon = 0 \n",
    "            util = np.zeros_like(V_old)\n",
    "            util[c <= 0] = -99999999 \n",
    "            util[c > 0]= np.log(c[c > 0])\n",
    "            V_choice = util + beta*(np.dot(transition, V_old))\n",
    "            V_new[:, i] = np.amax(V_choice, axis = 1) \n",
    "            idx_policy = np.argmax(V_choice, axis = 1)\n",
    "            k_policy[:, i] = kgrid[idx_policy]\n",
    "            \n",
    "        eps = np.linalg.norm(V_new - V_old,2)\n",
    "        V_old = V_new.copy()\n",
    "        count += 1\n",
    "        \n",
    "    return k_policy, V_new, kgrid\n",
    "    \n"
   ]
  },
  {
   "cell_type": "code",
   "execution_count": 47,
   "metadata": {},
   "outputs": [],
   "source": [
    "def pathSim(params, kbar, returnSim = False):\n",
    "    \n",
    "    #Set seed\n",
    "    t = 10000 \n",
    "    capital_series = np.zeros(t)\n",
    "    tol, eps = 1e-4, 10000\n",
    "    itr, max_iter = 0, 10000\n",
    "    random.seed(0)\n",
    "    \n",
    "    k_policy, V_new, kgrid =  hetagents(kbar, params, 400)\n",
    "    k = random.choice(kgrid)\n",
    "    capital_series[0] = k\n",
    "\n",
    "    for i in range(1, t):\n",
    "        epsilon = np.random.binomial(1, 0.9, 1)\n",
    "        if epsilon == 1:\n",
    "            k = k_policy[0, np.where(kgrid == k)[0]]\n",
    "        else:\n",
    "            k = k_policy[1, np.where(kgrid == k)[0]]\n",
    "        capital_series[i] = k\n",
    "    kbar_new = np.mean(capital_series)\n",
    "    eps  = (kbar_new - kbar)\n",
    "    #print(kbar)\n",
    "    kbar = kbar_new\n",
    "    print('kbar',kbar,'eps',eps)\n",
    "    itr  += 1\n",
    "    print(\"Iteration:\", str(itr), str(eps))\n",
    "    if returnSim == True:\n",
    "        return capital_series\n",
    "      \n",
    "    return eps"
   ]
  },
  {
   "cell_type": "code",
   "execution_count": 40,
   "metadata": {},
   "outputs": [],
   "source": [
    "def bisection(f,a,b):\n",
    "    '''Approximate solution of f(x)=0 on interval [a,b] by the bisection method.\n",
    "\n",
    "    Parameters\n",
    "    ----------\n",
    "    f : function\n",
    "        The function for which we are trying to approximate a solution f(x)=0.\n",
    "    a,b : numbers\n",
    "        The interval in which to search for a solution. The function returns\n",
    "        None if f(a)*f(b) >= 0 since a solution is not guaranteed.\n",
    "\n",
    "    Returns\n",
    "    -------\n",
    "    x_N : number\n",
    "        The midpoint of the Nth interval computed by the bisection method. The\n",
    "        initial interval [a_0,b_0] is given by [a,b]. If f(m_n) == 0 for some\n",
    "        midpoint m_n = (a_n + b_n)/2, then the function returns this solution.\n",
    "        If all signs of values f(a_n), f(b_n) and f(m_n) are the same at any\n",
    "        iteration, the bisection method fails and return None.\n",
    "\n",
    "    Examples\n",
    "    --------\n",
    "    >>> f = lambda x: x**2 - x - 1\n",
    "    >>> bisection(f,1,2,25)\n",
    "    1.618033990263939\n",
    "    >>> f = lambda x: (2*x - 1)*(x - 3)\n",
    "    >>> bisection(f,0,1,10)\n",
    "    0.5\n",
    "    '''\n",
    "    max_iter, count = 250, 0 \n",
    "    eps, threshold =100, .5\n",
    "    if f(a)*f(b) >= 0:\n",
    "        print(\"Bisection method fails.\")\n",
    "        return None\n",
    "    a_n = a\n",
    "    b_n = b\n",
    "    while (eps > threshold and count < max_iter): \n",
    "    #for n in range(1,N+1):\n",
    "        m_n = (a_n + b_n)/2\n",
    "        f_m_n = f(m_n)\n",
    "        if f(a_n)*f_m_n < 0:\n",
    "            a_n = a_n\n",
    "            b_n = m_n\n",
    "        elif f(b_n)*f_m_n < 0:\n",
    "            a_n = m_n\n",
    "            b_n = b_n\n",
    "        elif f_m_n == 0:\n",
    "            print(\"Found exact solution.\")\n",
    "            return m_n\n",
    "        else:\n",
    "            print(\"Bisection method fails.\")\n",
    "            return None\n",
    "        count +=1\n",
    "        eps = b_n - a_n \n",
    "    return (a_n + b_n)/2"
   ]
  },
  {
   "cell_type": "code",
   "execution_count": 28,
   "metadata": {},
   "outputs": [
    {
     "data": {
      "text/plain": [
       "<matplotlib.legend.Legend at 0x1848fa73518>"
      ]
     },
     "execution_count": 28,
     "metadata": {},
     "output_type": "execute_result"
    },
    {
     "data": {
      "image/png": "[encoded data removed]",
      "text/plain": [
       "<Figure size 360x288 with 1 Axes>"
      ]
     },
     "metadata": {
      "needs_background": "light"
     },
     "output_type": "display_data"
    }
   ],
   "source": [
    "# Step 1:  guess on kbar (perhaps start with the \n",
    "#    value that obtains in a representative-agent economy in steady state)\n",
    "\n",
    "kbar = kbar_rbc(params)\n",
    "\n",
    "# Step 2:  iterate on the Bellman equation to find the value and policy functions\n",
    "\n",
    "k_policy, V_new, kgrid = hetagents(kbar, params, 400)\n",
    "\n",
    "plt.figure(figsize = (5, 4))\n",
    "plt.plot(kgrid, k_policy[0, :], color = \"g\", label = \"Policy function esp = 1\")\n",
    "plt.plot(kgrid, k_policy[1, :], color = \"royalblue\", label = \"Policy function esp = 0\")\n",
    "plt.grid()\n",
    "plt.legend()"
   ]
  },
  {
   "cell_type": "code",
   "execution_count": 41,
   "metadata": {},
   "outputs": [
    {
     "name": "stdout",
     "output_type": "stream",
     "text": [
      "kbar 19.998586536842105 eps 19.898586536842103\n",
      "Iteration: 1 19.898586536842103\n",
      "kbar 1.520041838596491 eps -8.479958161403509\n",
      "Iteration: 1 -8.479958161403509\n",
      "kbar 19.719983926315788 eps 14.669983926315787\n",
      "Iteration: 1 14.669983926315787\n",
      "kbar 19.998586536842105 eps 19.898586536842103\n",
      "Iteration: 1 19.898586536842103\n",
      "kbar 1.526878589473684 eps -8.473121410526316\n",
      "Iteration: 1 -8.473121410526316\n",
      "kbar 2.0711922245614036 eps -5.453807775438596\n",
      "Iteration: 1 -5.453807775438596\n",
      "kbar 19.718405057894735 eps 14.668405057894734\n",
      "Iteration: 1 14.668405057894734\n",
      "kbar 18.556954361403506 eps 12.269454361403506\n",
      "Iteration: 1 12.269454361403506\n",
      "kbar 19.714154643859647 eps 14.664154643859646\n",
      "Iteration: 1 14.664154643859646\n",
      "kbar 2.099882519298245 eps -5.425117480701756\n",
      "Iteration: 1 -5.425117480701756\n",
      "kbar 3.0172201087719297 eps -3.8890298912280703\n",
      "Iteration: 1 -3.8890298912280703\n",
      "kbar 18.617628019298245 eps 12.330128019298245\n",
      "Iteration: 1 12.330128019298245\n",
      "kbar 6.34842697368421 eps -0.24844802631579022\n",
      "Iteration: 1 -0.24844802631579022\n",
      "kbar 18.73195814210526 eps 12.44445814210526\n",
      "Iteration: 1 12.44445814210526\n"
     ]
    },
    {
     "data": {
      "text/plain": [
       "6.442187499999999"
      ]
     },
     "execution_count": 41,
     "metadata": {},
     "output_type": "execute_result"
    }
   ],
   "source": [
    "# Step 3: simulate a long time series for a typical consumer using the\n",
    "# optimal decision rule (computed in the second step) and the law of motion for epsilon\n",
    "\n",
    "kbar_final = kbar_rbc(params)\n",
    "f = lambda kbar: pathSim(params, kbar)\n",
    "\n",
    "bisection(f,0.1,10)"
   ]
  },
  {
   "cell_type": "code",
   "execution_count": 51,
   "metadata": {},
   "outputs": [
    {
     "name": "stdout",
     "output_type": "stream",
     "text": [
      "kbar 2.2837279631578946 eps -4.927448429441612\n",
      "Iteration: 1 -4.927448429441612\n"
     ]
    },
    {
     "data": {
      "text/plain": [
       "Text(0.5, 1.0, 'Histogram of Capital')"
      ]
     },
     "execution_count": 51,
     "metadata": {},
     "output_type": "execute_result"
    },
    {
     "data": {
      "image/png": "[encoded data removed]",
      "text/plain": [
       "<Figure size 432x288 with 1 Axes>"
      ]
     },
     "metadata": {
      "needs_background": "light"
     },
     "output_type": "display_data"
    }
   ],
   "source": [
    "capitalSims = pathSim(params, kbar,True)\n",
    "plt.hist(capitalSims)\n",
    "plt.title('Histogram of Capital')"
   ]
  },
  {
   "cell_type": "code",
   "execution_count": null,
   "metadata": {},
   "outputs": [],
   "source": []
  }
 ],
 "metadata": {
  "kernelspec": {
   "display_name": "Python 3",
   "language": "python",
   "name": "python3"
  },
  "language_info": {
   "codemirror_mode": {
    "name": "ipython",
    "version": 3
   },
   "file_extension": ".py",
   "mimetype": "text/x-python",
   "name": "python",
   "nbconvert_exporter": "python",
   "pygments_lexer": "ipython3",
   "version": "3.7.1"
  }
 },
 "nbformat": 4,
 "nbformat_minor": 2
}
