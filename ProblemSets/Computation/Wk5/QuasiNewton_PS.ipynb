{
 "cells": [
  {
   "cell_type": "markdown",
   "metadata": {},
   "source": [
    "# 12. Newton and Quasi-Newton\n",
    "\n",
    "## Daniel Dimitrov"
   ]
  },
  {
   "cell_type": "code",
   "execution_count": 1,
   "metadata": {},
   "outputs": [],
   "source": [
    "import numpy as np\n",
    "from numpy import linalg as la\n",
    "import matplotlib.pyplot as plt\n",
    "from scipy import optimize as opt\n",
    "from scipy import sparse"
   ]
  },
  {
   "cell_type": "code",
   "execution_count": 2,
   "metadata": {},
   "outputs": [],
   "source": [
    "def newton(df,d2f,x0,maxiters):\n",
    "    \n",
    "    err = 100\n",
    "    tol = 1e-9\n",
    "    counter = 0\n",
    "    x = x0\n",
    "    converged = False\n",
    "    \n",
    "    while (err > tol) and (counter+1 < maxiters ):\n",
    "        x_new = x - la.inv(d2f(x))@df(x)\n",
    "        err = la.norm(x-x_new, np.inf)\n",
    "        x = x_new\n",
    "        counter +=1\n",
    "    if counter < maxiters:\n",
    "        converged = True\n",
    "    return x, err, converged"
   ]
  },
  {
   "cell_type": "code",
   "execution_count": 3,
   "metadata": {},
   "outputs": [
    {
     "name": "stdout",
     "output_type": "stream",
     "text": [
      "Optimization terminated successfully.\n",
      "         Current function value: 0.000000\n",
      "         Iterations: 35\n",
      "         Function evaluations: 42\n",
      "         Gradient evaluations: 42\n"
     ]
    },
    {
     "data": {
      "text/plain": [
       "array([1.00000021, 1.00000045])"
      ]
     },
     "execution_count": 3,
     "metadata": {},
     "output_type": "execute_result"
    }
   ],
   "source": [
    "f = opt.rosen\n",
    "df = opt.rosen_der\n",
    "d2f = opt.rosen_hess\n",
    "x0=[-2,2]\n",
    "# opt's solution \n",
    "opt.fmin_bfgs(f=f, x0=[-2,2], fprime=df, maxiter=50)"
   ]
  },
  {
   "cell_type": "code",
   "execution_count": 4,
   "metadata": {},
   "outputs": [
    {
     "name": "stdout",
     "output_type": "stream",
     "text": [
      "[1. 1.] 8.507945459257371e-10 True\n"
     ]
    }
   ],
   "source": [
    "#my solution\n",
    "x, err, converged = newton(df,d2f,x0,100)\n",
    "print(x, err, converged)"
   ]
  },
  {
   "cell_type": "markdown",
   "metadata": {},
   "source": [
    "## Problem 2"
   ]
  },
  {
   "cell_type": "code",
   "execution_count": 31,
   "metadata": {},
   "outputs": [],
   "source": [
    "def smw(df,x0,maxiters):\n",
    "# Sherman-Morrison-Woodbury Hessian-free optimization    \n",
    "    \n",
    "    n = np.size(x0)\n",
    "    err = 100\n",
    "    tol = 1e-9\n",
    "    counter = 0\n",
    "    Akinv = np.eye(n)\n",
    "    xk = x0.copy()\n",
    "    terminated, converged = False, False\n",
    "    \n",
    "    while (err > tol) and (counter+1 < maxiters ):       \n",
    "        # Update x\n",
    "        Dfxk = df(xk)\n",
    "        xkp1 = xk - Akinv @ Dfxk.T\n",
    "        \n",
    "        # Update A_k\n",
    "        sk = xkp1 - xk\n",
    "        Dfxkp1 = df(xkp1)\n",
    "        yk = Dfxkp1.T - Dfxk.T\n",
    "        skdotyk = sk.T @ yk        \n",
    "        term1den = (skdotyk) ** 2\n",
    "        \n",
    "        if term1den < 1e-50:\n",
    "            print('Terminated because dviding by 0.')\n",
    "            terminated = True\n",
    "            converged = False\n",
    "            break\n",
    "        \n",
    "        term1num = (skdotyk + yk.T @ Akinv @ yk) * np.outer(sk, sk)        \n",
    "        term2num = Akinv @ np.outer(yk, sk) + np.outer(sk, yk) @ Akinv\n",
    "        term2den = skdotyk\n",
    "        \n",
    "        Akp1inv = Akinv + term1num/term1den - term2num/term2den           \n",
    "        \n",
    "        err = la.norm(Dfxk, np.inf)\n",
    "        xk = xkp1\n",
    "        Akinv = Akp1inv\n",
    "        counter +=1\n",
    "    if counter < maxiters:\n",
    "        converged = True\n",
    "    return x, err, converged, terminated"
   ]
  },
  {
   "cell_type": "code",
   "execution_count": 32,
   "metadata": {},
   "outputs": [
    {
     "name": "stdout",
     "output_type": "stream",
     "text": [
      "[1. 1.] 9.115153076811434e-10 True False\n"
     ]
    }
   ],
   "source": [
    "x0 = np.array([-2,2])\n",
    "\n",
    "x, err, converged, terminated = smw(df,x0,500)\n",
    "print(x, err, converged, terminated)"
   ]
  },
  {
   "cell_type": "code",
   "execution_count": null,
   "metadata": {},
   "outputs": [],
   "source": []
  },
  {
   "cell_type": "code",
   "execution_count": null,
   "metadata": {},
   "outputs": [],
   "source": []
  }
 ],
 "metadata": {
  "kernelspec": {
   "display_name": "Python 3",
   "language": "python",
   "name": "python3"
  },
  "language_info": {
   "codemirror_mode": {
    "name": "ipython",
    "version": 3
   },
   "file_extension": ".py",
   "mimetype": "text/x-python",
   "name": "python",
   "nbconvert_exporter": "python",
   "pygments_lexer": "ipython3",
   "version": "3.7.1"
  }
 },
 "nbformat": 4,
 "nbformat_minor": 2
}
