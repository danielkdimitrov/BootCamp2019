{
 "cells": [
  {
   "cell_type": "markdown",
   "metadata": {},
   "source": [
    "# Iterative Solvers\n",
    "\n",
    "## Daniel Dimitrov"
   ]
  },
  {
   "cell_type": "code",
   "execution_count": 89,
   "metadata": {},
   "outputs": [],
   "source": [
    "import numpy as np\n",
    "from numpy import linalg as la\n",
    "import matplotlib.pyplot as plt\n",
    "\n",
    "from scipy import sparse"
   ]
  },
  {
   "cell_type": "code",
   "execution_count": 2,
   "metadata": {},
   "outputs": [],
   "source": [
    "def diag_dom(n, num_entries=None):\n",
    "    \"\"\"Generate a strictly diagonally dominant (n, n) matrix.\n",
    "    Parameters:\n",
    "    n (int): The dimension of the system.\n",
    "    num_entries (int): The number of nonzero values.\n",
    "    Defaults to n^(3/2)-n.\n",
    "    Returns:\n",
    "    A ((n,n) ndarray): A (n, n) strictly diagonally dominant matrix.\n",
    "    \"\"\"\n",
    "    if num_entries is None:\n",
    "        num_entries = int(n**1.5) - n\n",
    "        A = np.zeros((n,n))\n",
    "        rows = np.random.choice(np.arange(0,n), size=num_entries)\n",
    "        cols = np.random.choice(np.arange(0,n), size=num_entries)\n",
    "        data = np.random.randint(-4, 4, size=num_entries)\n",
    "    for i in range(num_entries):\n",
    "        A[rows[i], cols[i]] = data[i]\n",
    "    for i in range(n):\n",
    "        A[i,i] = np.sum(np.abs(A[i])) + 1\n",
    "    return A"
   ]
  },
  {
   "cell_type": "markdown",
   "metadata": {},
   "source": [
    "### Problems 1 & 2"
   ]
  },
  {
   "cell_type": "code",
   "execution_count": 83,
   "metadata": {},
   "outputs": [],
   "source": [
    "def jacobi(A,b, maxiters, plot = False):\n",
    "    \n",
    "    errs = np.empty(maxiters)\n",
    "    err = 100\n",
    "    tol = 1e-9\n",
    "    counter = 0\n",
    "    D = np.diag(A)\n",
    "    x_new, x = np.zeros(len(A)),np.zeros(len(A)) #initial guess\n",
    "    \n",
    "    while (err > tol) and (counter+1 < maxiters ):\n",
    "        x_new = x + (b - A @ x) / D\n",
    "        err = la.norm(x-x_new, np.inf)\n",
    "        errs[counter] = err\n",
    "        x = x_new.copy() \n",
    "        counter +=1\n",
    "    if plot:\n",
    "        #print(errs[:counter],counter)        \n",
    "        plt.semilogy(range(1,counter), errs[1:counter])\n",
    "    return x\n",
    "\n"
   ]
  },
  {
   "cell_type": "code",
   "execution_count": 84,
   "metadata": {},
   "outputs": [
    {
     "data": {
      "text/plain": [
       "True"
      ]
     },
     "execution_count": 84,
     "metadata": {},
     "output_type": "execute_result"
    },
    {
     "data": {
      "image/png": "[encoded data removed]",
      "text/plain": [
       "<Figure size 432x288 with 1 Axes>"
      ]
     },
     "metadata": {
      "needs_background": "light"
     },
     "output_type": "display_data"
    }
   ],
   "source": [
    "n = 100\n",
    "A = diag_dom(n)\n",
    "b = np.random.random(n)*10\n",
    "x = jacobi(A,b,250,True)\n",
    "\n",
    "np.allclose(A@x,b,atol=1e-6)"
   ]
  },
  {
   "cell_type": "markdown",
   "metadata": {},
   "source": [
    "## Problem 3"
   ]
  },
  {
   "cell_type": "code",
   "execution_count": 97,
   "metadata": {},
   "outputs": [],
   "source": [
    "def gausSeidel(A,b, maxiters, plot = False):\n",
    "    \n",
    "    errs = np.empty(maxiters)\n",
    "    err = 100\n",
    "    tol = 1e-9\n",
    "    counter = 0\n",
    "    x_new, x = np.zeros(len(A)),np.zeros(len(A))\n",
    "    \n",
    "    while (err > tol) and (counter+1 < maxiters ):\n",
    "        for i in range(len(x)):\n",
    "            x_new[i] = x_new[i] + (1 / A[i, i]) * (b[i] - A[i, :].T @ x_new)  \n",
    "        err = la.norm(x-x_new, np.inf)\n",
    "        errs[counter] = err\n",
    "        x = x_new.copy() \n",
    "        counter +=1\n",
    "    if plot:\n",
    "        #print(errs[:counter],counter)        \n",
    "        plt.semilogy(range(1,counter), errs[1:counter])\n",
    "    return x\n",
    "\n"
   ]
  },
  {
   "cell_type": "code",
   "execution_count": 98,
   "metadata": {},
   "outputs": [
    {
     "name": "stdout",
     "output_type": "stream",
     "text": [
      "100\n"
     ]
    },
    {
     "data": {
      "text/plain": [
       "True"
      ]
     },
     "execution_count": 98,
     "metadata": {},
     "output_type": "execute_result"
    },
    {
     "data": {
      "image/png": "[encoded data removed]",
      "text/plain": [
       "<Figure size 432x288 with 1 Axes>"
      ]
     },
     "metadata": {
      "needs_background": "light"
     },
     "output_type": "display_data"
    }
   ],
   "source": [
    "n = 100\n",
    "A = diag_dom(n)\n",
    "b = np.random.random(n)*10\n",
    "x = gausSeidel(A,b,250,True)\n",
    "print(len(A))\n",
    "np.allclose(A@x,b,atol=1e-6)"
   ]
  },
  {
   "cell_type": "markdown",
   "metadata": {},
   "source": [
    "## Problem 4"
   ]
  },
  {
   "cell_type": "code",
   "execution_count": 117,
   "metadata": {},
   "outputs": [],
   "source": [
    "def gausSeidelSparse(A,b, maxiters, plot = False):\n",
    "    \n",
    "    errs = np.empty(maxiters)\n",
    "    err = 100\n",
    "    tol = 1e-9\n",
    "    counter = 0\n",
    "    n = np.shape(A)[0]\n",
    "    x_new, x = np.zeros(n),np.zeros(n)\n",
    "    \n",
    "    while (err > tol) and (counter+1 < maxiters ):\n",
    "        for i in range(len(x)):\n",
    "            # Get the indices of where the i-th row of A starts and ends if the\n",
    "            # nonzero entries of A were flattened.\n",
    "            rowstart = A.indptr[i]\n",
    "            rowend = A.indptr[i+1]\n",
    "\n",
    "            # Multiply only the nonzero elements of the i-th row of A with the\n",
    "            # corresponding elements of x.\n",
    "            Aix = A.data[rowstart:rowend] @ x[A.indices[rowstart:rowend]]\n",
    "            x_new[i] = x_new[i] + (1 / A[i, i]) * (b[i] - Aix)             \n",
    "        err = la.norm(x-x_new, np.inf)\n",
    "        errs[counter] = err\n",
    "        x = x_new.copy() \n",
    "        counter +=1\n",
    "    if plot:\n",
    "        plt.semilogy(range(1,counter), errs[1:counter])\n",
    "    return x\n",
    "\n"
   ]
  },
  {
   "cell_type": "code",
   "execution_count": 119,
   "metadata": {},
   "outputs": [
    {
     "data": {
      "text/plain": [
       "True"
      ]
     },
     "execution_count": 119,
     "metadata": {},
     "output_type": "execute_result"
    },
    {
     "data": {
      "image/png": "[encoded data removed]",
      "text/plain": [
       "<Figure size 432x288 with 1 Axes>"
      ]
     },
     "metadata": {
      "needs_background": "light"
     },
     "output_type": "display_data"
    }
   ],
   "source": [
    "A = sparse.csr_matrix(diag_dom(10000))\n",
    "b = np.random.random(10000)\n",
    "\n",
    "x = gausSeidelSparse(A,b,250,True)\n",
    "np.allclose(A@x,b,atol=1e-6)"
   ]
  },
  {
   "cell_type": "markdown",
   "metadata": {},
   "source": [
    "## Problem 5"
   ]
  },
  {
   "cell_type": "code",
   "execution_count": 154,
   "metadata": {},
   "outputs": [],
   "source": [
    "def SOR(A,b,omega, maxiters, plot = False):\n",
    "    # relaxing factor omega > = 1\n",
    "    errs = np.empty(maxiters)\n",
    "    err = 100\n",
    "    tol = 1e-9\n",
    "    counter = 0\n",
    "    n = np.shape(A)[0]\n",
    "    x_new, x = np.zeros(n),np.zeros(n)\n",
    "    \n",
    "    while (err > tol) and (counter+1 < maxiters ):\n",
    "        for i in range(len(x)):\n",
    "            # Get the indices of where the i-th row of A starts and ends if the\n",
    "            # nonzero entries of A were flattened.\n",
    "            rowstart = A.indptr[i]\n",
    "            rowend = A.indptr[i+1]\n",
    "\n",
    "            # Multiply only the nonzero elements of the i-th row of A with the\n",
    "            # corresponding elements of x.\n",
    "            Aix = A.data[rowstart:rowend] @ x[A.indices[rowstart:rowend]]\n",
    "            x_new[i] = x_new[i] + (omega / A[i, i]) * (b[i] - Aix)             \n",
    "        err = la.norm(x-x_new, np.inf)\n",
    "        errs[counter] = err\n",
    "        x = x_new.copy() \n",
    "        counter +=1\n",
    "    if plot:\n",
    "        plt.semilogy(range(1,counter), errs[1:counter])\n",
    "    return x"
   ]
  },
  {
   "cell_type": "code",
   "execution_count": 161,
   "metadata": {},
   "outputs": [
    {
     "data": {
      "text/plain": [
       "True"
      ]
     },
     "execution_count": 161,
     "metadata": {},
     "output_type": "execute_result"
    },
    {
     "data": {
      "image/png": "[encoded data removed]",
      "text/plain": [
       "<Figure size 432x288 with 1 Axes>"
      ]
     },
     "metadata": {
      "needs_background": "light"
     },
     "output_type": "display_data"
    }
   ],
   "source": [
    "A = sparse.csr_matrix(diag_dom(10000))\n",
    "b = np.random.random(10000)\n",
    "omega = 1.05\n",
    "\n",
    "x = SOR(A,b,omega,50,True)\n",
    "np.allclose(A@x,b,atol=1e-6)"
   ]
  },
  {
   "cell_type": "markdown",
   "metadata": {},
   "source": [
    "## Problem 6"
   ]
  },
  {
   "cell_type": "code",
   "execution_count": 167,
   "metadata": {
    "scrolled": true
   },
   "outputs": [
    {
     "data": {
      "text/plain": [
       "<matplotlib.collections.QuadMesh at 0x208a464acc0>"
      ]
     },
     "execution_count": 167,
     "metadata": {},
     "output_type": "execute_result"
    },
    {
     "data": {
      "image/png": "[encoded data removed]",
      "text/plain": [
       "<Figure size 432x288 with 1 Axes>"
      ]
     },
     "metadata": {
      "needs_background": "light"
     },
     "output_type": "display_data"
    }
   ],
   "source": [
    "n = 30\n",
    "A = -4 * np.eye(n**2) + np.eye(n**2, k=1) + np.eye(n**2, k=-1) + np.eye(n**2, k=-n) + np.eye(n**2, k=n)\n",
    "b = np.zeros(n)\n",
    "b[0] = -100\n",
    "b[-1] = -100\n",
    "b = np.tile(b, n)\n",
    "omega = 1.1\n",
    "u = gausSeidel(A,b, 50, False)\n",
    "u = u.reshape(n, n)\n",
    "\n",
    "plt.figure()\n",
    "plt.pcolormesh(u, cmap='coolwarm')"
   ]
  },
  {
   "cell_type": "code",
   "execution_count": null,
   "metadata": {},
   "outputs": [],
   "source": []
  }
 ],
 "metadata": {
  "kernelspec": {
   "display_name": "Python 3",
   "language": "python",
   "name": "python3"
  },
  "language_info": {
   "codemirror_mode": {
    "name": "ipython",
    "version": 3
   },
   "file_extension": ".py",
   "mimetype": "text/x-python",
   "name": "python",
   "nbconvert_exporter": "python",
   "pygments_lexer": "ipython3",
   "version": "3.7.1"
  }
 },
 "nbformat": 4,
 "nbformat_minor": 2
}
