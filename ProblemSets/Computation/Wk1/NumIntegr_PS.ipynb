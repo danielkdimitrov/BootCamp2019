{
 "cells": [
  {
   "cell_type": "markdown",
   "metadata": {},
   "source": [
    "# Numerical Integration\n",
    "\n",
    "Do problems 4.1"
   ]
  },
  {
   "cell_type": "code",
   "execution_count": 1,
   "metadata": {},
   "outputs": [],
   "source": [
    "import scipy as scipy\n",
    "import numpy as np\n",
    "\n",
    "import scipy.integrate as integrate\n",
    "import scipy.special as special\n",
    "from scipy import stats\n",
    "\n",
    "from matplotlib import pyplot as plt\n",
    "\n",
    "from scipy import optimize\n",
    "from scipy.optimize import fsolve\n",
    "from scipy import integrate\n",
    "\n",
    "# FUNCTIONS \n",
    "g = lambda x:  0.1*x**4 -1.5*x**3 + 0.53*x**2 + 2*x + 1\n"
   ]
  },
  {
   "cell_type": "markdown",
   "metadata": {},
   "source": [
    "# Problem 2.1 "
   ]
  },
  {
   "cell_type": "markdown",
   "metadata": {},
   "source": [
    "**Exercise 2.1.** You can verify that the analytical solution to the integral of the function\n",
    "\\begin{equation*}\n",
    "  g(x)=0.1x^4 -1.5x^3 + 0.53x^2 + 2x + 1\n",
    "\\end{equation*}\n",
    "between $x=-10$ and $x=10$ is $\\int_{-10}^{10} g(x)dx = 4,373.3\\bar{3}$. Write a Python function that will take as arguments an anonymous function that the user specifies representing $g(x)$, integration bounds $a$ and $b$, the number of intervals $N$, and\n",
    "```python\n",
    "method = {'midpoint', 'trapezoid', 'Simpsons'}\n",
    "```\n",
    "Using the composite methods, evaluate the numerical approximations of the integral $\\int_a^b g(x)dx$ using all three Newton-Cotes methods in your function and compare the difference between the values of these integrals to the true analytical value of the integral.\n",
    "\n",
    "***Midpoint Rule***\n",
    "\\begin{equation}\\label{NumInt_EqMidPtRuleComp}\n",
    "  \\int_a^b g(x)dx \\approx \\frac{b-a}{N}\\sum_{i=0}^{N-1}g(x_i)\n",
    "\\end{equation}\n",
    "\n",
    "***Trapezoid***\n",
    "\n",
    "\\begin{equation}\\label{NumInt_EqTrapRuleComp}\n",
    "  \\int_a^b g(x)dx \\approx \\frac{b-a}{2N}\\left[g(x_0) + 2\\sum_{i=1}^{N-1}g(x_i) + g(x_N)\\right]\n",
    "\\end{equation}\n",
    "\n",
    "***Simpson's Rule***\n",
    "\\begin{equation}\\label{NumInt_EqTrapRuleComp2}\n",
    "  \\int_a^b g(x)dx \\approx \\frac{b-a}{6N}\\left[g(x_0) + 4\\sum_{i=1,3,\\ldots}^{2N-1}g(x_i) + 2\\sum_{i=2,4,\\ldots}^{2N-2}g(x_i) + g(x_{2N})\\right]\n",
    "\\end{equation}"
   ]
  },
  {
   "cell_type": "code",
   "execution_count": 2,
   "metadata": {},
   "outputs": [],
   "source": [
    "def my_int(g,a,b,N,method):\n",
    "    if method == 'midpoint':\n",
    "        x = np.linspace(a,b,N+1)\n",
    "        g_eval = g(x)\n",
    "        intgrl = (b-a)/N * sum(g_eval)        \n",
    "    elif method == 'trapezoid':\n",
    "        x = np.linspace(a,b,N+1)\n",
    "        g_eval = g(x)\n",
    "        intgrl = (b-a)/(2*N)*(g_eval[0]+2*sum(g_eval[1:N-1])+g_eval[N]) \n",
    "    elif method == 'Simpsons':\n",
    "        x = np.linspace(a,b,2*(N+1))\n",
    "        g_eval = g(x)\n",
    "        range1 = np.arange(1,2*(N)+1,2)\n",
    "        range2 = np.arange(2,2*N-2+1,2)        \n",
    "        intgrl = (b-a)/(6*N)*(g_eval[0]+4*sum(g_eval[range1]) + 2*sum(g_eval[range2]) \\\n",
    "                              + g_eval[2*N])\n",
    "    else:\n",
    "        print('Pick midpoint, trapezoid, or Simpsons')\n",
    "    return intgrl\n",
    "\n"
   ]
  },
  {
   "cell_type": "code",
   "execution_count": 3,
   "metadata": {},
   "outputs": [
    {
     "name": "stdout",
     "output_type": "stream",
     "text": [
      "Simpsons = 4437.61\n",
      "midpoint = 4586.87\n",
      "trapezoid = 4459.65\n",
      "true value = 4373.33\n"
     ]
    }
   ],
   "source": [
    "methods = {'midpoint', 'trapezoid', 'Simpsons'}\n",
    "\n",
    "for jj, method in enumerate(methods):\n",
    "    int_eval = my_int(g,-10,10,100,method)\n",
    "    print(method + ' = ' + str(round(int_eval,2)))\n",
    "print('true value = 4373.33')"
   ]
  },
  {
   "cell_type": "markdown",
   "metadata": {},
   "source": [
    "**Exercise 2.2.** Write a Python function that makes a Newton-Cotes discrete approximation of the distribution of the normally distributed variable $Z \\sim N(\\mu,\\sigma)$. \n",
    "\n",
    "Let this function take as arguments the mean $\\mu$, the standard deviation $\\sigma$, the number of equally spaced nodes $N$ to estimate the distribution, and the number of standard deviations $k$ away from $\\mu$ to make the furthest nodes on either side of $\\mu$. \n",
    "\n",
    "Use the [`scipy.stats.norm.cdf`](http://docs.scipy.org/doc/scipy/reference/generated/scipy.stats.norm.html#scipy.stats.norm) command for the cdf of the normal distribution to compute the weights $\\omega_n$ for the nodes $x_n$. \n",
    "\n",
    "Have this function return a vector of nodes of $[Z_1,Z_2,...Z_N]$ and a vector of weights $[\\omega_1,\\omega_2,...\\omega_N]$ such that $\\omega_i$ is given by the integral under the normal distribution between the midpoints of the two closest nodes. \n",
    "\n",
    "Define $f(Z;\\mu,\\sigma)$ as the pdf of the normal distribution and $F(Z;\\mu,\\sigma)$ as the cdf.\n",
    "\\begin{equation*}\n",
    "  \\begin{split}\n",
    "    &\\omega_i =\n",
    "      \\begin{cases}\n",
    "        F\\left(\\frac{Z_1 + Z_2}{2};\\mu,\\sigma\\right) \\quad\\quad\\quad\\quad\\:\\text{if}\\quad i = 1 \\\\\n",
    "        \\int_{Z_{min}}^{Z_{max}}f(Z;\\mu,\\sigma)dZ \\quad\\quad\\:\\:\\text{if}\\quad 1<i<N \\\\\n",
    "        1 - F\\left(\\frac{Z_{N-1} + Z_{N}}{2};\\mu,\\sigma\\right) \\quad\\text{if}\\quad i = N\n",
    "      \\end{cases} \\\\\n",
    "    &\\text{where}\\quad Z_{min} = \\frac{Z_{i-1} + Z_{i}}{2} \\quad\\text{and}\\quad Z_{max} = \\frac{Z_{i} + Z_{i+1}}{2}\n",
    "  \\end{split}\n",
    "\\end{equation*}\n",
    "What are the weights and nodes $\\{\\omega_n,Z_n\\}_{n=1}^N$ for $N=11$?\n"
   ]
  },
  {
   "cell_type": "code",
   "execution_count": 4,
   "metadata": {},
   "outputs": [],
   "source": [
    "def nc_quad_norm(mu,sigma, k, N):\n",
    "    z = np.linspace(mu-k*sigma,mu+k*sigma,N)\n",
    "    w_eval = np.zeros_like(z) \n",
    "    F = lambda x: stats.norm.cdf(x, loc=mu, scale=sigma)\n",
    "    N_r = N-1\n",
    "\n",
    "    for i in range(N_r):\n",
    "        if i == 0:\n",
    "            w_eval[i]= F((z[i]+z[i+1])/2)\n",
    "        elif i == N_r:\n",
    "            w_eval[i]= 1 - F((z[N_r]+z[N_r-1])/2)\n",
    "        else:\n",
    "            z_min = (z[i-1]+z[i])/2\n",
    "            z_max = (z[i] + z[i+1])/2\n",
    "            w_eval[i] = F(z_max)- F(z_min)\n",
    "            # print(w_eval[i] )\n",
    "    return w_eval, z\n"
   ]
  },
  {
   "cell_type": "code",
   "execution_count": 5,
   "metadata": {},
   "outputs": [
    {
     "name": "stdout",
     "output_type": "stream",
     "text": [
      "weights [0.00346697 0.01439745 0.04894278 0.11725292 0.19802845 0.23582284\n",
      " 0.19802845 0.11725292 0.04894278 0.01439745 0.        ]\n"
     ]
    },
    {
     "data": {
      "image/png": "[encoded data removed]",
      "text/plain": [
       "<Figure size 432x288 with 1 Axes>"
      ]
     },
     "metadata": {
      "needs_background": "light"
     },
     "output_type": "display_data"
    }
   ],
   "source": [
    "mu = 0\n",
    "sigma = 1\n",
    "k = 3\n",
    "N = 11\n",
    "\n",
    "w_eval, z = nc_quad_norm(mu,sigma, k, N)\n",
    "\n",
    "plt.figure()\n",
    "plt.plot(z,w_eval)\n",
    "print('weights', w_eval)"
   ]
  },
  {
   "cell_type": "markdown",
   "metadata": {},
   "source": [
    "**Exercise 2.3.** If $Z\\sim N(\\mu,\\sigma)$, then $A\\equiv e^Z\\sim LN(\\mu,\\sigma)$ is distributed lognormally and $\\log(A)\\sim N(\\mu,\\sigma)$. Use your knowledge that $A\\equiv e^Z$, $\\log(A)\\sim N(\\mu,\\sigma)$, and your function from Exercise 2.2 to write a function that gives a discrete approximation to the lognormal distribution. Note: You will not end up with evenly spaced nodes $[A_1,A_2,...A_N]$, but your weights should be the same as in Exercise 2.2."
   ]
  },
  {
   "cell_type": "code",
   "execution_count": 6,
   "metadata": {},
   "outputs": [
    {
     "data": {
      "text/plain": [
       "[<matplotlib.lines.Line2D at 0x21a5e1a29b0>]"
      ]
     },
     "execution_count": 6,
     "metadata": {},
     "output_type": "execute_result"
    },
    {
     "data": {
      "image/png": "[encoded data removed]",
      "text/plain": [
       "<Figure size 432x288 with 1 Axes>"
      ]
     },
     "metadata": {
      "needs_background": "light"
     },
     "output_type": "display_data"
    }
   ],
   "source": [
    "def nc_quad_lognorm(mu,sigma, k, N):\n",
    "    w_eval, z = nc_quad_norm(mu,sigma, k, N)\n",
    "    return w_eval, np.exp(z)\n",
    "\n",
    "mu = 0\n",
    "sigma = 1\n",
    "k = 3\n",
    "N = 11\n",
    "\n",
    "w_eval, z = nc_quad_lognorm(mu,sigma, k, N)\n",
    "\n",
    "plt.figure()\n",
    "plt.plot(z,w_eval)\n"
   ]
  },
  {
   "cell_type": "markdown",
   "metadata": {},
   "source": [
    "**Exercise 2.4.** Let $Y_i$ represent the income of individual $i$ in the United States for all individuals $i$. Assume that income $Y_i$ is lognormally distributed in the U.S. according to $Y_i\\sim LN(\\mu,\\sigma)$, where the mean of log income is $\\mu = 10.5$ and the standard deviation of log income is $\\sigma = 0.8$. Use your function from Exercise 2.3 to compute an approximation of the expected value of income or average income in the U.S. How does your approximation compare to the exact expected value of $E[Y] = e^{\\mu + \\frac{\\sigma^2}{2}}$?"
   ]
  },
  {
   "cell_type": "code",
   "execution_count": 7,
   "metadata": {},
   "outputs": [
    {
     "name": "stdout",
     "output_type": "stream",
     "text": [
      "approximation =  50065.59\n",
      "theoretical 50011.09\n"
     ]
    }
   ],
   "source": [
    "mu = 10.5\n",
    "sigma = 0.8\n",
    "k = 5\n",
    "N = 50\n",
    "\n",
    "w_eval, z = nc_quad_lognorm(mu,sigma, k, N)\n",
    "\n",
    "expectation = np.dot(w_eval, z)\n",
    "\n",
    "print('approximation = ', round(expectation,2))\n",
    "print('theoretical', round(np.exp(mu+(sigma**2)/2),2))  "
   ]
  },
  {
   "cell_type": "markdown",
   "metadata": {},
   "source": [
    "## 3. Gaussian Quadrature"
   ]
  },
  {
   "cell_type": "markdown",
   "metadata": {},
   "source": [
    "**Exercise 3.1.** Approximate the integral of the function in Exercise 2.1 using Gaussian quadrature with $N=3$, $(\\omega_1,\\omega_2,\\omega_3,x_1,x_2,x_3)$. Use the class of polynomials $h_i(x)=x^i$. How does the accuracy of your approximated integral compare to the approximations from Exercise 2.1 and the true known value of the integral?"
   ]
  },
  {
   "cell_type": "code",
   "execution_count": 8,
   "metadata": {},
   "outputs": [
    {
     "name": "stdout",
     "output_type": "stream",
     "text": [
      "My Gaussian Quad 4373.33\n",
      "true value = 4373.33\n"
     ]
    }
   ],
   "source": [
    "def gaus_quad_eqs(variable):\n",
    "    w1,x1,w2,x2,w3,x3 = variable\n",
    "    a = -10\n",
    "    b = 10\n",
    "    eqs = np.zeros(6)\n",
    "    for i in range(6):\n",
    "        eqs[i]= w1*x1**i+w2*x2**i+w3*x3**i - ((b**(i+1))/(i+1)-(a**(i+1))/(i+1))\n",
    "    return eqs\n",
    "\n",
    "\n",
    "#gaus_quad_eqs_current = lambda w1,x1,w2,x2,w3,x3: gaus_quad_eqs(w1,x1,w2,x2,w3,x3,a,b)\n",
    "[w1,x1,w2,x2,w3,x3] = fsolve(gaus_quad_eqs,(.1,.1,.1,.1,.1,.1))\n",
    "\n",
    "int = w1*g(x1)+w2*g(x2)+w3*g(x3)\n",
    "print('My Gaussian Quad',round(int,2))\n",
    "print('true value = 4373.33')"
   ]
  },
  {
   "cell_type": "markdown",
   "metadata": {},
   "source": [
    "**Exercise 3.2.** Use the Python Gaussian quadrature command [`scipy.integrate.quad`](http://docs.scipy.org/doc/scipy/reference/generated/scipy.integrate.quad.html#scipy.integrate.quad) to numerically approximate the integral from Exercise 2.1.\n",
    "\\begin{equation*}\n",
    "  \\int_{-10}^{10} g(x)dx \\quad\\text{where}\\quad g(x)=0.1x^4 -1.5x^3 + 0.53x^2 + 2x + 1\n",
    "\\end{equation*}\n",
    "How does the approximated integral using the [`scipy.integrate.quad`](http://docs.scipy.org/doc/scipy/reference/generated/scipy.integrate.quad.html#scipy.integrate.quad) command compare to the exact value of the function?"
   ]
  },
  {
   "cell_type": "code",
   "execution_count": 9,
   "metadata": {},
   "outputs": [
    {
     "name": "stdout",
     "output_type": "stream",
     "text": [
      "scipi Gaussian Quad 4373.333333333334\n",
      "true value = 4373.33\n"
     ]
    }
   ],
   "source": [
    "a = -10\n",
    "b = 10\n",
    "int = integrate.quad(g,a,b)\n",
    "print('scipi Gaussian Quad', int[0])\n",
    "print('true value = 4373.33')"
   ]
  },
  {
   "cell_type": "markdown",
   "metadata": {},
   "source": [
    "## 4. Monte Carlo Integration"
   ]
  },
  {
   "cell_type": "markdown",
   "metadata": {},
   "source": [
    "**Exercise 4.1.** Use Monte Carlo integration to approximate the value of $\\pi$. \n",
    "\n",
    "Define a function in that takes as arguments a function $g(\\mathbf{x})$ of a vector of variables $\\mathbf{x}$, the domain $\\Omega$ of $\\mathbf{x}$, and the number of random draws $N$ and returns the Monte Carlo approximation of the integral $\\int_\\Omega g(\\mathbf{x}) d\\mathbf{x}$. \n",
    "\n",
    "Let $\\Omega$ be a generalized rectangle--width $x$ and height $y$. In order to approximate $\\pi$, let the functional form of the anonymous function be $g(x,y)$ from Section 4.1 with domain $\\Omega = [-1,1]\\times[-1,1]$. \n",
    "\n",
    "What is the smallest number of random draws $N$ from $\\Omega$ that matches the true value of $\\pi$ to the 4th decimal 3.1415? Set the random seed in your uniform random number generator to 25. This will make the correct answer consistent across submissions."
   ]
  },
  {
   "cell_type": "code",
   "execution_count": 10,
   "metadata": {},
   "outputs": [
    {
     "data": {
      "image/png": "[encoded data removed]",
      "text/plain": [
       "<Figure size 432x288 with 1 Axes>"
      ]
     },
     "metadata": {
      "needs_background": "light"
     },
     "output_type": "display_data"
    }
   ],
   "source": [
    "def g(x,y):\n",
    "    if x**2 + y**2 <= 1:  \n",
    "        g_eval1 = 1\n",
    "    else:\n",
    "        g_eval1 = 0\n",
    "    return g_eval1\n",
    "\n",
    "\n",
    "def int(g, N):    \n",
    "    g_eval = 0\n",
    "    x = np.random.uniform(-1,1,N)\n",
    "    y = np.random.uniform(-1,1,N)\n",
    "    np.random.seed(25)\n",
    "    for i in range(N):\n",
    "        g_eval = g_eval + g(x[i], y[i])\n",
    "    int = (4/N)*g_eval\n",
    "    return int\n",
    "\n",
    "N_limit = 1000\n",
    "pi_est = np.zeros(N_limit-3)\n",
    "\n",
    "for jj in range(2,N_limit):\n",
    "    pi_est[jj-3] = int(g, jj)\n",
    "\n",
    "range_ = list(range(2,N_limit-1))\n",
    "true_pi = np.pi*np.ones(N_limit-3)\n",
    "\n",
    "plt.figure()\n",
    "plt.plot(range_,pi_est)\n",
    "plt.plot(range_,true_pi,'--')\n",
    "plt.xlabel('# of draws')\n",
    "plt.ylabel('pi')\n",
    "plt.show()        \n"
   ]
  },
  {
   "cell_type": "code",
   "execution_count": null,
   "metadata": {},
   "outputs": [],
   "source": []
  },
  {
   "cell_type": "code",
   "execution_count": null,
   "metadata": {},
   "outputs": [],
   "source": []
  }
 ],
 "metadata": {
  "kernelspec": {
   "display_name": "Python 3",
   "language": "python",
   "name": "python3"
  },
  "language_info": {
   "codemirror_mode": {
    "name": "ipython",
    "version": 3
   },
   "file_extension": ".py",
   "mimetype": "text/x-python",
   "name": "python",
   "nbconvert_exporter": "python",
   "pygments_lexer": "ipython3",
   "version": "3.7.1"
  }
 },
 "nbformat": 4,
 "nbformat_minor": 2
}
