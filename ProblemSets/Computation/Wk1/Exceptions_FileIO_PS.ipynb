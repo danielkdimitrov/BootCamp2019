{
 "cells": [
  {
   "cell_type": "markdown",
   "metadata": {},
   "source": [
    "# ACME: Exceptions and File/IO"
   ]
  },
  {
   "cell_type": "markdown",
   "metadata": {},
   "source": [
    "## Problem 1"
   ]
  },
  {
   "cell_type": "code",
   "execution_count": null,
   "metadata": {},
   "outputs": [],
   "source": [
    "from random import choice"
   ]
  },
  {
   "cell_type": "code",
   "execution_count": null,
   "metadata": {},
   "outputs": [],
   "source": [
    "def arithmagic():\n",
    "    step_1 = input(\"Enter a 3-digit number where the first and last \"\n",
    "    \"digits differ by 2 or more: \")\n",
    "    if len(step_1) >3:\n",
    "        raise ValueError('The number has to be of length 3')\n",
    "    if abs(int(str(step_1)[0])-int(str(step_1)[2])) <2:\n",
    "        print(str(step_1)[0])\n",
    "        print(str(step_1)[2])\n",
    "        raise ValueError('The number’s first and last digits differ by less than 2.')\n",
    "    step_2 = input(\"Enter the reverse of the first number, obtained \"\n",
    "    \"by reading it backwards: \")\n",
    "    if int(str(step_1)[0])!= int(str(step_2)[2]) or int(str(step_1)[1])!= int(str(step_2)[1]) \\\n",
    "        or int(str(step_1)[2])!= int(str(step_2)[0]):\n",
    "        raise ValueError(\"The second number is not the reverse of the first number.\")\n",
    "    step_3 = input(\"Enter the positive difference of these numbers: \")\n",
    "    if step_3 != abs(step_1 - step_2):\n",
    "        raise ValueError(\"The third number is not the positive difference of the first two numbers.\")\n",
    "    step_4 = input(\"Enter the reverse of the previous result: \")\n",
    "    if int(str(step_4)[0])!= int(str(step_3)[2]) or int(str(step_4)[1])!= int(str(step_3)[1]) \\\n",
    "        or int(str(step_4)[2])!= int(str(step_3)[0]):\n",
    "        raise ValueError(\"The second number is not the reverse of the first number.\")\n",
    "\n",
    "    print(str(step_3), \"+\", str(step_4), \"= 1089 (ta-da!)\")"
   ]
  },
  {
   "cell_type": "markdown",
   "metadata": {},
   "source": [
    "## Problem 2"
   ]
  },
  {
   "cell_type": "code",
   "execution_count": null,
   "metadata": {},
   "outputs": [],
   "source": [
    "def random_walk(max_iters=1e12):\n",
    "    walk = 0\n",
    "    directions = [1, -1]\n",
    "    try: \n",
    "        for i in range(int(max_iters)):\n",
    "            walk += choice(directions)\n",
    "    except KeyboardInterrupt:\n",
    "        print('Process interrupted at iteration i= ', i)\n",
    "    print('Process completed')\n",
    "    return walk\n",
    "\n",
    "# Execute on e.g. Spyder and stop with \n",
    "random_walk()"
   ]
  },
  {
   "cell_type": "markdown",
   "metadata": {},
   "source": [
    "## Problem 3"
   ]
  },
  {
   "cell_type": "code",
   "execution_count": null,
   "metadata": {},
   "outputs": [],
   "source": [
    "class ContentFilter:\n",
    "    def __init__(self, name):\n",
    "        self.name = name\n",
    "\n",
    "    def fileRead(self,f_name):\n",
    "        try:\n",
    "            myfile = open(f_name, 'r')\n",
    "            print(myfile.read())\n",
    "        except:\n",
    "            print('file does not exist! input file')\n",
    "            input()"
   ]
  },
  {
   "cell_type": "code",
   "execution_count": null,
   "metadata": {},
   "outputs": [],
   "source": [
    "a = ContentFilter('init')\n",
    "a.fileRead('hello_world.txt')"
   ]
  },
  {
   "cell_type": "markdown",
   "metadata": {},
   "source": [
    "## Problem 4"
   ]
  },
  {
   "cell_type": "code",
   "execution_count": null,
   "metadata": {},
   "outputs": [],
   "source": []
  }
 ],
 "metadata": {
  "kernelspec": {
   "display_name": "Python 3",
   "language": "python",
   "name": "python3"
  },
  "language_info": {
   "codemirror_mode": {
    "name": "ipython",
    "version": 3
   },
   "file_extension": ".py",
   "mimetype": "text/x-python",
   "name": "python",
   "nbconvert_exporter": "python",
   "pygments_lexer": "ipython3",
   "version": "3.7.1"
  }
 },
 "nbformat": 4,
 "nbformat_minor": 2
}
