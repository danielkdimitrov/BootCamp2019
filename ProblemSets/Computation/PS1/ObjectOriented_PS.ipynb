{
 "cells": [
  {
   "cell_type": "markdown",
   "metadata": {},
   "source": [
    "# Object-Oriented Programming"
   ]
  },
  {
   "cell_type": "markdown",
   "metadata": {},
   "source": [
    "## Problem 1"
   ]
  },
  {
   "cell_type": "code",
   "execution_count": 14,
   "metadata": {},
   "outputs": [],
   "source": [
    "class Backpack:\n",
    "    # This is sample object class for problem 1\n",
    "    def __init__(self, name,color,max_size=5):\n",
    "        self.name = name\n",
    "        self.color = color\n",
    "        self.max_size = max_size\n",
    "        self.contents = []\n",
    "    \n",
    "    def put(self, item):\n",
    "        if len(self.contents) < self.max_size:\n",
    "            self.contents.append(item)\n",
    "        else:\n",
    "            print('No Room!')\n",
    "        \n",
    "    def dump():\n",
    "        self.contents.clear\n",
    "        \n"
   ]
  },
  {
   "cell_type": "code",
   "execution_count": 15,
   "metadata": {},
   "outputs": [
    {
     "name": "stdout",
     "output_type": "stream",
     "text": [
      "Contents: ['pencil', 'pen', 'paper', 'computer']\n"
     ]
    }
   ],
   "source": [
    "def test_backpack():\n",
    "    testpack = Backpack(\"Barry\", \"black\") # Instantiate the object.\n",
    "    if testpack.name != \"Barry\": # Test an attribute.\n",
    "        print(\"Backpack.name assigned incorrectly\")\n",
    "    for item in [\"pencil\", \"pen\", \"paper\", \"computer\"]:\n",
    "        testpack.put(item) # Test a method.\n",
    "    print(\"Contents:\", testpack.contents)\n",
    "    \n",
    "test_backpack()"
   ]
  },
  {
   "cell_type": "markdown",
   "metadata": {},
   "source": [
    "## Problem 2"
   ]
  },
  {
   "cell_type": "code",
   "execution_count": 19,
   "metadata": {},
   "outputs": [],
   "source": [
    "class Jetpack(Backpack):\n",
    "    pass\n",
    "    # This is a sample submethod. Supply fuel to burn. If you supply more than is available\n",
    "    # an error will be returned\n",
    "    def __init__(self, name, color, max_size=3, fuel=10):\n",
    "        Backpack.__init__(self, name, color, max_size)\n",
    "        self.fuel = fuel\n",
    "        \n",
    "    def fly(burn):\n",
    "        if burn > fuel:\n",
    "            print('too much!')\n",
    "        else:        \n",
    "            return fuel - burn\n",
    "        \n",
    "    def dump():\n",
    "        self.contents.clear\n",
    "        self.fuel.clear\n",
    "        "
   ]
  },
  {
   "cell_type": "code",
   "execution_count": null,
   "metadata": {},
   "outputs": [],
   "source": []
  },
  {
   "cell_type": "markdown",
   "metadata": {},
   "source": [
    "## Problem 3"
   ]
  },
  {
   "cell_type": "code",
   "execution_count": null,
   "metadata": {},
   "outputs": [],
   "source": []
  },
  {
   "cell_type": "markdown",
   "metadata": {},
   "source": [
    "## Problem 4"
   ]
  },
  {
   "cell_type": "code",
   "execution_count": null,
   "metadata": {},
   "outputs": [],
   "source": []
  }
 ],
 "metadata": {
  "kernelspec": {
   "display_name": "Python 3",
   "language": "python",
   "name": "python3"
  },
  "language_info": {
   "codemirror_mode": {
    "name": "ipython",
    "version": 3
   },
   "file_extension": ".py",
   "mimetype": "text/x-python",
   "name": "python",
   "nbconvert_exporter": "python",
   "pygments_lexer": "ipython3",
   "version": "3.7.1"
  }
 },
 "nbformat": 4,
 "nbformat_minor": 2
}
