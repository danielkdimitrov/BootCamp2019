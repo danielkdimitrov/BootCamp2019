{
 "cells": [
  {
   "cell_type": "markdown",
   "metadata": {},
   "source": [
    "# Newtons Method"
   ]
  },
  {
   "cell_type": "markdown",
   "metadata": {},
   "source": [
    "## Problem 1: Newton's method"
   ]
  },
  {
   "cell_type": "code",
   "execution_count": 1,
   "metadata": {},
   "outputs": [],
   "source": [
    "import numpy as np\n",
    "from scipy.optimize import newton\n",
    "import matplotlib.pyplot as plt\n"
   ]
  },
  {
   "cell_type": "code",
   "execution_count": 2,
   "metadata": {},
   "outputs": [],
   "source": [
    "def my_zero(f,df,x0,alpha=1.0):\n",
    "    #Newton's method min\n",
    "    tol = 1.e-5\n",
    "    maxiters = 250\n",
    "    for k in range(maxiters):\n",
    "        x = x0 - alpha*(f(x0)/df(x0))\n",
    "        epsilon = abs(x - x0)\n",
    "        if epsilon < tol:\n",
    "            print('no convergence, epsilon =', epsilon)\n",
    "            break \n",
    "        x0 = x\n",
    "        #print('epsilon',epsilon)\n",
    "    return x, epsilon, k\n"
   ]
  },
  {
   "cell_type": "code",
   "execution_count": 3,
   "metadata": {},
   "outputs": [
    {
     "name": "stdout",
     "output_type": "stream",
     "text": [
      "no convergence, epsilon = 4.004997459228221e-07\n",
      "my zero:  0.6931471805600254 epsilon 4.004997459228221e-07\n",
      "scipy's zero 0.6931471805599592\n"
     ]
    }
   ],
   "source": [
    "def f1(x):\n",
    "    return np.exp(x) - 2\n",
    "\n",
    "def df1(x):\n",
    "    return np.exp(x)\n",
    "\n",
    "def f2(x):\n",
    "    return (x)**4 - 3\n",
    "\n",
    "def df2(x):\n",
    "    return 4(x)**3\n",
    "\n",
    "\n",
    "x0 = 0\n",
    "x_z, epsilon, k = my_zero(f1,df1,x0)    \n",
    "\n",
    "print('my zero: ', x_z, 'epsilon', epsilon)\n",
    "print('scipy\\'s zero', newton(f1,0))\n"
   ]
  },
  {
   "cell_type": "markdown",
   "metadata": {},
   "source": [
    "## Problem 3: Backsteping\n"
   ]
  },
  {
   "cell_type": "code",
   "execution_count": 4,
   "metadata": {},
   "outputs": [
    {
     "name": "stdout",
     "output_type": "stream",
     "text": [
      "alpha= 1\n",
      "x_zero:  1.8092513943300215e+73 epsilon 2.7138770914950448e+73\n",
      "alpha= 0.4\n",
      "no convergence, epsilon = 3.840000000000064e-06\n",
      "x_zero:  6.400000000000134e-07 epsilon 3.840000000000064e-06\n"
     ]
    }
   ],
   "source": [
    "f = lambda x: np.sign(x) * np.power(np.abs(x), 1./3)\n",
    "df = lambda x: (1./3) * np.power(np.abs(x), -2./3)\n",
    "\n",
    "x0 = .01\n",
    "alpha = 1\n",
    "print('alpha=', alpha)\n",
    "x_z, epsilon,k = my_zero(f,df,x0)    \n",
    "print('x_zero: ', x_z, 'epsilon', epsilon)\n",
    "\n",
    "alpha = .4\n",
    "print('alpha=', alpha)\n",
    "x_z, epsilon, iters = my_zero(f,df,x0,alpha)    \n",
    "print('x_zero: ', x_z, 'epsilon', epsilon)\n"
   ]
  },
  {
   "cell_type": "markdown",
   "metadata": {},
   "source": [
    "## Problem 4 "
   ]
  },
  {
   "cell_type": "code",
   "execution_count": 5,
   "metadata": {},
   "outputs": [
    {
     "name": "stdout",
     "output_type": "stream",
     "text": [
      "no convergence, epsilon = 9.898183311065321e-06\n",
      "no convergence, epsilon = 8.695093510438647e-06\n",
      "no convergence, epsilon = 7.986275965946236e-06\n",
      "no convergence, epsilon = 8.518465375354992e-06\n",
      "no convergence, epsilon = 6.462518361433951e-06\n",
      "no convergence, epsilon = 4.279486899594705e-06\n",
      "no convergence, epsilon = 4.707664375876427e-06\n",
      "no convergence, epsilon = 1.0384404344787394e-06\n",
      "no convergence, epsilon = 4.080000000000185e-06\n",
      "no convergence, epsilon = 4.883852291107271e-06\n",
      "no convergence, epsilon = 4.643983693771091e-06\n",
      "no convergence, epsilon = 7.63906106642845e-06\n",
      "no convergence, epsilon = 5.273505233330088e-06\n",
      "no convergence, epsilon = 8.037819108076755e-06\n",
      "no convergence, epsilon = 8.888835523065721e-06\n",
      "no convergence, epsilon = 9.367913863747341e-06\n"
     ]
    },
    {
     "data": {
      "text/plain": [
       "Text(0, 0.5, '# of iterations')"
      ]
     },
     "execution_count": 5,
     "metadata": {},
     "output_type": "execute_result"
    },
    {
     "data": {
      "image/png": "[encoded data removed]",
      "text/plain": [
       "<Figure size 432x288 with 1 Axes>"
      ]
     },
     "metadata": {
      "needs_background": "light"
     },
     "output_type": "display_data"
    }
   ],
   "source": [
    "alpha_grid = np.linspace(0.01,1,25)\n",
    "\n",
    "x_min = np.zeros_like(alpha_grid)\n",
    "iters = np.zeros_like(alpha_grid)\n",
    "\n",
    "for i_alpha, alpha in enumerate(alpha_grid):\n",
    "    x_min[i_alpha], epsilon, iters[i_alpha] = my_zero(f,df,x0,alpha)    \n",
    "\n",
    "plt.figure()\n",
    "plt.plot(alpha_grid,iters)\n",
    "plt.xlabel('backstepping alpha')\n",
    "plt.ylabel('# of iterations')"
   ]
  },
  {
   "cell_type": "code",
   "execution_count": null,
   "metadata": {},
   "outputs": [],
   "source": []
  }
 ],
 "metadata": {
  "kernelspec": {
   "display_name": "Python 3",
   "language": "python",
   "name": "python3"
  },
  "language_info": {
   "codemirror_mode": {
    "name": "ipython",
    "version": 3
   },
   "file_extension": ".py",
   "mimetype": "text/x-python",
   "name": "python",
   "nbconvert_exporter": "python",
   "pygments_lexer": "ipython3",
   "version": "3.7.1"
  }
 },
 "nbformat": 4,
 "nbformat_minor": 2
}
