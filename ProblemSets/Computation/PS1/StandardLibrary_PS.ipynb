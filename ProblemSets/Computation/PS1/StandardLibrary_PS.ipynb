{
 "cells": [
  {
   "cell_type": "markdown",
   "metadata": {},
   "source": [
    "# Standard Library"
   ]
  },
  {
   "cell_type": "code",
   "execution_count": 1,
   "metadata": {},
   "outputs": [
    {
     "name": "stdout",
     "output_type": "stream",
     "text": [
      "1 10 5.75\n"
     ]
    }
   ],
   "source": [
    "## 2 The Standard Library\n",
    "\n",
    "# Problem 1. \n",
    "def myfun_p1(L): print(min(L),max(L),sum(L)/len(L))\n",
    "    \n",
    "# try it out \n",
    "myfun_p1((1,2,10,10))"
   ]
  },
  {
   "cell_type": "code",
   "execution_count": 2,
   "metadata": {},
   "outputs": [
    {
     "name": "stdout",
     "output_type": "stream",
     "text": [
      "integer is immutable\n",
      "10 11\n",
      "str is immutable\n",
      "Daniel Hans\n",
      "list is mutable\n",
      "[0, 1, 2, 3, '1'] [0, 1, 2, 3, '1']\n",
      "tuple is immutable\n",
      "(4, 2, 6) (4, 2, 6, 1)\n",
      "set is mutable\n",
      "{'c', 'b', 'a', '0'} {'c', 'b', 'a', '0'}\n"
     ]
    }
   ],
   "source": [
    "# Problem 2\n",
    "## There is something fishy about this \n",
    "\n",
    "# int\n",
    "int_orig = 10\n",
    "int_new = int_orig\n",
    "int_new = int_new + 1\n",
    "if int_orig == int_new:\n",
    "    print('integer is mutable')\n",
    "else:\n",
    "    print('integer is immutable')\n",
    "print(int_orig,int_new)\n",
    "# str\n",
    "str_orig = \"Daniel\"\n",
    "str_new = str_orig\n",
    "str_new = \"Hans\"\n",
    "if str_orig == str_new:\n",
    "    print('str is mutable')\n",
    "else:\n",
    "    print('str is immutable')\n",
    "print(str_orig, str_new)\n",
    "# list,\n",
    "list_orig = list(range(4))\n",
    "list_new = list_orig\n",
    "list_new.append(\"1\")\n",
    "if list_orig == list_new:\n",
    "    print('list is mutable')\n",
    "else:\n",
    "    print('list is immutable')\n",
    "print(list_orig, list_new)\n",
    "# tuple\n",
    "tuple_orig = (4, 2, 6)\n",
    "tuple_new = tuple_orig\n",
    "tuple_new = tuple_new + (1,) \n",
    "if tuple_orig == tuple_new:\n",
    "    print('tuple is mutable')\n",
    "else:\n",
    "    print('tuple is immutable')\n",
    "print(tuple_orig, tuple_new)\n",
    "\n",
    "# set\n",
    "set_orig = set([\"a\", \"b\",\"c\"])\n",
    "set_new = set_orig\n",
    "set_new.add(\"0\")\n",
    "if set_orig == set_new:\n",
    "    print('set is mutable')\n",
    "else:\n",
    "    print('set is immutable')\n",
    "print(set_orig, set_new)"
   ]
  },
  {
   "cell_type": "code",
   "execution_count": 3,
   "metadata": {},
   "outputs": [
    {
     "name": "stdout",
     "output_type": "stream",
     "text": [
      "5.0\n"
     ]
    }
   ],
   "source": [
    "# Problem 3\n",
    "import calculator as calc\n",
    "\n",
    "def pitagor(x,y):\n",
    "    hypot = calc.sqrt(calc.my_sum(calc.my_product(x,x),calc.my_product(y,y)))  \n",
    "    return hypot\n",
    "\n",
    "print(pitagor(3,4))"
   ]
  },
  {
   "cell_type": "code",
   "execution_count": 4,
   "metadata": {},
   "outputs": [
    {
     "name": "stdout",
     "output_type": "stream",
     "text": [
      "[()]\n",
      "[('c',), ('b',), ('a',)]\n",
      "[('c', 'b'), ('c', 'a'), ('b', 'a')]\n",
      "[('c', 'b', 'a')]\n"
     ]
    }
   ],
   "source": [
    "# Problem 4\n",
    "\n",
    "from itertools import combinations\n",
    "\n",
    "def power_set(A):\n",
    "    print([()])\n",
    "    l = len(A)\n",
    "    for i in range(l):\n",
    "        print(list(combinations(A,i+1)))\n",
    "\n",
    "\n",
    "A = set([\"a\", \"b\", \"c\"])\n",
    "\n",
    "power_set(A)\n"
   ]
  }
 ],
 "metadata": {
  "kernelspec": {
   "display_name": "Python 3",
   "language": "python",
   "name": "python3"
  },
  "language_info": {
   "codemirror_mode": {
    "name": "ipython",
    "version": 3
   },
   "file_extension": ".py",
   "mimetype": "text/x-python",
   "name": "python",
   "nbconvert_exporter": "python",
   "pygments_lexer": "ipython3",
   "version": "3.7.1"
  }
 },
 "nbformat": 4,
 "nbformat_minor": 2
}
