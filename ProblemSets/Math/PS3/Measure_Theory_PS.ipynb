{
 "cells": [
  {
   "cell_type": "markdown",
   "metadata": {},
   "source": [
    "# Measure Theory\n"
   ]
  },
  {
   "cell_type": "markdown",
   "metadata": {},
   "source": [
    "## Exercise 1.3.\n",
    "\n",
    "An algebra satisfies \n",
    "\n",
    "(1) $\\varnothing \\in \\mathcal{A}$\n",
    "\n",
    "(2) $A \\in \\mathcal{A} \\implies A^C \\in \\mathcal{A} $\n",
    "\n",
    "(3) $A_1, A_2, ... \\in \\mathcal{A} \\implies \\bigcup_n^\\infty A_n \\in \\mathcal{A}$\n",
    "\n",
    "A sigma-algebra satisfies \n",
    "\n",
    "(4) $A_1, A_2, ..., A_N \\in \\mathcal{A} \\implies \\bigcup_n^N A_n \\in \\mathcal{A}$\n",
    "\n",
    "Now \n",
    "\n",
    "+ $\\mathcal{G}_1$ satisfies (1) and (3) but not (2) $\\implies$ not an algebra $\\implies$  not a sigma-algebra\n",
    "\n",
    "+ $\\mathcal{G}_2$ satisfies (1), (2) and (3) but not (4) $\\implies$ an algebra but  not a sigma-algebra\n",
    "\n",
    "+ $\\mathcal{G}_3$ satisfies (1), (2), (3)  and (4)  $\\implies$ a sigma-algebra\n"
   ]
  },
  {
   "cell_type": "markdown",
   "metadata": {},
   "source": [
    "## Exercise 1.7\n",
    "\n",
    "+ By definition $\\varnothing \\in \\mathcal{A}$ for every sigma-algebra $\\mathcal{A}$. $\\implies$ $X \\in \\mathcal{S}$ as well as the complement of the empty set $\\implies$ $\\{ \\varnothing, \\mathcal{S} \\}$ is the smallest possible sigma-algebra\n",
    "\n",
    "+ For any $A \\in \\mathcal{A}(X)$ (with $\\mathcal{A}$ any sigma-algebra spun by the set $X$) we know that $A \\in \\mathcal{P}(X)$ $\\implies$ $\\mathcal{P}(X)$ must be the largest possible sigma-algebra spun by the set $X$ \n",
    "\n"
   ]
  },
  {
   "cell_type": "markdown",
   "metadata": {},
   "source": [
    "## Exercise 1.10\n",
    "\n",
    "+ By definition of sigma-algebra and knowing that each of $\\mathcal{S}_{\\alpha}$ is a a sigma-algebra $\\implies$ $\\varnothing \\in$ any $\\mathcal{S}_{\\alpha}$ $\\implies$ $\\varnothing \\in \\cap_{\\alpha}\\mathcal{S}_{\\alpha}$ \n",
    "\n",
    "+ Take set $A \\in \\cap_{\\alpha}\\mathcal{S}_{\\alpha}$ $\\implies$ $A \\in \\mathcal{S}_{\\alpha}, \\forall_{\\alpha}$, by the sigma-algrebra  $\\implies$ $A^C \\in \\mathcal{S}_{\\alpha}, \\forall_{\\alpha}$ $\\implies$ $A^C \\in \\cap_{\\alpha} \\mathcal{S}_{\\alpha}$\n",
    "\n",
    "+ Take $A_1, A_2... \\in \\cap_{\\alpha}\\mathcal{S}_{\\alpha}$ $\\implies$ $A_1, A_2... \\in \\mathcal{S}_{\\alpha}, \\forall_{\\alpha}$, $\\implies$ $ \\cup_n A_n \\in \\mathcal{S}_{\\alpha}, \\forall_{\\alpha}$ $\\implies$ $ \\cup_n A_n \\in \\cap_{\\alpha} \\mathcal{S}_{\\alpha}$\n",
    "\n"
   ]
  },
  {
   "cell_type": "markdown",
   "metadata": {},
   "source": [
    "## Exercise 1.22\n",
    "\n",
    "+ Proof of *monotonicity*: \n",
    "    \n",
    "    + Let $C= B \\setminus A$ $\\implies$ $A \\cup C = B$ $\\implies$ $\\mu(A \\cap C) = \\mu(A) + \\mu(C) = \\mu(B)$ $\\implies$ $\\mu(A) \\leq \\mu(B)$ since $\\mu(C) \\geq 0$ by the non-negativity property of measures \n",
    "\n",
    "+ Proof of *countably subadditivity*\n",
    "\n",
    "    + Construct disjoint sets as $G_1 = A_1; G_2 = A_2 \\setminus A_1; G_3 = A_3 \\setminus A_1 \\cap A_3$... etc. $\\implies$ $\\cup_i^\\infty G_i = \\cup_i^\\infty A_i $\n",
    "    + $\\mu(\\cup_i^\\infty G_i) = \\sum_i^\\infty \\mu(G_i) \\equiv \\mu(\\cup_i^\\infty A_i) $\n",
    "    + By construction $G_i \\in A_i$ $\\implies$ by monotonicity of measures (above) $\\mu(G_i) \\leq \\mu(A_i)$\n",
    "    + $\\implies$ $\\sum_i^\\infty \\mu(G_i) \\leq \\sum_i^\\infty \\mu(A_i)$\n",
    "    + $\\implies$ $\\mu(\\cup_i^\\infty A_i)\\leq \\sum_i^\\infty \\mu(A_i)$. q.e.d."
   ]
  },
  {
   "cell_type": "markdown",
   "metadata": {},
   "source": [
    "## Exercise 1.23\n",
    "\n",
    "+ case 1: Assume $A \\cap B = \\varnothing$ $\\implies$ $\\lambda(A) = \\mu(A \\cap B) = 0$ \n",
    "\n",
    "+ case 2: Assume $A \\cap B \\neq \\varnothing$. For arbitrary sets $A_i$  we have $\\lambda(\\cup_i^\\infty A_i) = \\mu(\\cup_i^\\infty A_i \\cap B) = \\sum_i^\\infty \\mu(A_i \\cap B) = \\sum_i^\\infty \\lambda(A_i) $\n",
    "\n",
    "$\\implies$ $\\lambda(A)$ is a measure on $\\{X, \\mathcal{S} \\} $\n"
   ]
  },
  {
   "cell_type": "markdown",
   "metadata": {},
   "source": [
    "## Exercise 1.26\n",
    "\n",
    "$$\n",
    "\\mu(A_1 \\ (\\cap_{n=1}^\\infty A-n)) \\\\ \n",
    "= \\mu(A_1) - \\mu(\\cap_{n=1}^\\infty A_n)\n",
    "$$\n",
    "by basic measure properties for $A_n \\subset A_1$\n",
    "\n",
    "$$\n",
    "A_1 \\ \\cap_{n=1}^\\infty \\\\ = A_1 \\cap (\\cup_{n=1}^\\infty A_n)^c \\\\\n",
    "= A_1 \\cap (\\cup_{n=1}^\\infty A_n^c) \\quad \\text{by De Morgan's Law} \\\\\n",
    "= \\cup_{n=1}^\\infty  (A_1 \\cap A_n^c) \\\\\n",
    "=  \\cup_{n=1}^\\infty  (A_1 \\ A_n)  \n",
    "$$\n",
    "Then \n",
    "$$\n",
    "\\mu(A_1 \\ \\cap_{n=1}^\\infty A_n) =  \\mu(\\cup_{n=1}^\\infty A_1 \\  A_n) \\\\\n",
    "= \\lim_{n \\to \\infty} (\\mu(A_1) - \\mu(A_n))) \\\\\n",
    "= \\mu(A_1) - \\lim_{n \\to \\infty} \\mu(A_n)\n",
    "$$\n",
    "\n",
    "Combining the two\n",
    "\n",
    "$$\n",
    "mu(A_1) - \\mu(\\cap_{n=1}^\\infty A_n) = mu(A_1) - \\lim_{n \\to \\infty} \\mu(A_n) \\\\\n",
    "\\implies \\mu(\\cap_{n=1}^\\infty A_n) = \\lim_{n \\to \\infty} \\mu(A_n) \\quad\n",
    "- Q.E.D\n",
    "$$"
   ]
  },
  {
   "cell_type": "markdown",
   "metadata": {},
   "source": [
    "# Excercise 3.21\n",
    "\n",
    "For $n \\in \\mathbb{N}^+$  Let $A =\\{a_n \\} $ be a countable subset on the real line and construct $\\{A_n \\}_{n=1}^\\infty$ such that $A_n = (a_n - \\frac{\\epsilon}{2^n}, a_n+\\frac{\\epsilon}{2^n})$.\n",
    "\n",
    "Then we have the Lebesgue measure\n",
    "\n",
    "$$\\lambda(A_n) = \\frac{\\epsilon}{2^{n-1}}$$\n",
    "\n",
    "$$\\implies \\sum_n^\\infty\\lambda(A_n) = \\frac{\\epsilon}{2^{n-1}} = 2\\epsilon$$\n",
    "\n",
    "Let $S \\subseteq \\cup_{n=1}^\\infty A_n $. Since $\\epsilon$ was arbitrary chosen, we can construct for any positive real $z$ $T$ s.t. $S \\subseteq T$ with $\\lambda(T) \\leq z$. $\\implies \\lambda(A) = 0$ "
   ]
  },
  {
   "cell_type": "code",
   "execution_count": null,
   "metadata": {},
   "outputs": [],
   "source": []
  }
 ],
 "metadata": {
  "kernelspec": {
   "display_name": "Python 3",
   "language": "python",
   "name": "python3"
  },
  "language_info": {
   "codemirror_mode": {
    "name": "ipython",
    "version": 3
   },
   "file_extension": ".py",
   "mimetype": "text/x-python",
   "name": "python",
   "nbconvert_exporter": "python",
   "pygments_lexer": "ipython3",
   "version": "3.7.1"
  }
 },
 "nbformat": 4,
 "nbformat_minor": 2
}
